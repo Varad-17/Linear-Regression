{
 "cells": [
  {
   "cell_type": "markdown",
   "metadata": {
    "id": "rQlRTWX3fEtN"
   },
   "source": [
    "# Linear regression\n",
    "\n",
    "Let us make a linear regression model. \n",
    "\n",
    "\n"
   ]
  },
  {
   "cell_type": "markdown",
   "metadata": {
    "id": "-Kj4C9x7819Y"
   },
   "source": [
    "## Implementation of Linear Regression Without using any library "
   ]
  },
  {
   "cell_type": "code",
   "execution_count": 1,
   "metadata": {
    "id": "MXZHDVYLgrdp"
   },
   "outputs": [],
   "source": [
    "import pandas as pd \n",
    "import numpy as np\n",
    "import matplotlib.pyplot as plt"
   ]
  },
  {
   "cell_type": "markdown",
   "metadata": {
    "id": "2qMEroXDB-ax"
   },
   "source": [
    "First, we will read the dataset file saved as a csv file with the help of pandas."
   ]
  },
  {
   "cell_type": "code",
   "execution_count": 2,
   "metadata": {
    "colab": {
     "base_uri": "https://localhost:8080/"
    },
    "id": "KjzzWbX8hn2-",
    "outputId": "c5d3ac46-4c4f-44ad-fcd0-601232d978f7"
   },
   "outputs": [
    {
     "name": "stderr",
     "output_type": "stream",
     "text": [
      "/tmp/ipykernel_5866/3219252310.py:1: DtypeWarning: Columns (47,73) have mixed types. Specify dtype option on import or set low_memory=False.\n",
      "  df = pd.read_csv(\"bottle.csv\")\n"
     ]
    },
    {
     "data": {
      "text/plain": [
       "(864863, 74)"
      ]
     },
     "execution_count": 2,
     "metadata": {},
     "output_type": "execute_result"
    }
   ],
   "source": [
    "df = pd.read_csv(\"bottle.csv\")\n",
    "df.shape"
   ]
  },
  {
   "cell_type": "code",
   "execution_count": 3,
   "metadata": {},
   "outputs": [
    {
     "data": {
      "text/html": [
       "<div>\n",
       "<style scoped>\n",
       "    .dataframe tbody tr th:only-of-type {\n",
       "        vertical-align: middle;\n",
       "    }\n",
       "\n",
       "    .dataframe tbody tr th {\n",
       "        vertical-align: top;\n",
       "    }\n",
       "\n",
       "    .dataframe thead th {\n",
       "        text-align: right;\n",
       "    }\n",
       "</style>\n",
       "<table border=\"1\" class=\"dataframe\">\n",
       "  <thead>\n",
       "    <tr style=\"text-align: right;\">\n",
       "      <th></th>\n",
       "      <th>Cst_Cnt</th>\n",
       "      <th>Btl_Cnt</th>\n",
       "      <th>Sta_ID</th>\n",
       "      <th>Depth_ID</th>\n",
       "      <th>Depthm</th>\n",
       "      <th>T_degC</th>\n",
       "      <th>Salnty</th>\n",
       "      <th>O2ml_L</th>\n",
       "      <th>STheta</th>\n",
       "      <th>O2Sat</th>\n",
       "      <th>...</th>\n",
       "      <th>R_PHAEO</th>\n",
       "      <th>R_PRES</th>\n",
       "      <th>R_SAMP</th>\n",
       "      <th>DIC1</th>\n",
       "      <th>DIC2</th>\n",
       "      <th>TA1</th>\n",
       "      <th>TA2</th>\n",
       "      <th>pH2</th>\n",
       "      <th>pH1</th>\n",
       "      <th>DIC Quality Comment</th>\n",
       "    </tr>\n",
       "  </thead>\n",
       "  <tbody>\n",
       "    <tr>\n",
       "      <th>0</th>\n",
       "      <td>1</td>\n",
       "      <td>1</td>\n",
       "      <td>054.0 056.0</td>\n",
       "      <td>19-4903CR-HY-060-0930-05400560-0000A-3</td>\n",
       "      <td>0</td>\n",
       "      <td>10.500</td>\n",
       "      <td>33.4400</td>\n",
       "      <td>NaN</td>\n",
       "      <td>25.64900</td>\n",
       "      <td>NaN</td>\n",
       "      <td>...</td>\n",
       "      <td>NaN</td>\n",
       "      <td>0</td>\n",
       "      <td>NaN</td>\n",
       "      <td>NaN</td>\n",
       "      <td>NaN</td>\n",
       "      <td>NaN</td>\n",
       "      <td>NaN</td>\n",
       "      <td>NaN</td>\n",
       "      <td>NaN</td>\n",
       "      <td>NaN</td>\n",
       "    </tr>\n",
       "    <tr>\n",
       "      <th>1</th>\n",
       "      <td>1</td>\n",
       "      <td>2</td>\n",
       "      <td>054.0 056.0</td>\n",
       "      <td>19-4903CR-HY-060-0930-05400560-0008A-3</td>\n",
       "      <td>8</td>\n",
       "      <td>10.460</td>\n",
       "      <td>33.4400</td>\n",
       "      <td>NaN</td>\n",
       "      <td>25.65600</td>\n",
       "      <td>NaN</td>\n",
       "      <td>...</td>\n",
       "      <td>NaN</td>\n",
       "      <td>8</td>\n",
       "      <td>NaN</td>\n",
       "      <td>NaN</td>\n",
       "      <td>NaN</td>\n",
       "      <td>NaN</td>\n",
       "      <td>NaN</td>\n",
       "      <td>NaN</td>\n",
       "      <td>NaN</td>\n",
       "      <td>NaN</td>\n",
       "    </tr>\n",
       "    <tr>\n",
       "      <th>2</th>\n",
       "      <td>1</td>\n",
       "      <td>3</td>\n",
       "      <td>054.0 056.0</td>\n",
       "      <td>19-4903CR-HY-060-0930-05400560-0010A-7</td>\n",
       "      <td>10</td>\n",
       "      <td>10.460</td>\n",
       "      <td>33.4370</td>\n",
       "      <td>NaN</td>\n",
       "      <td>25.65400</td>\n",
       "      <td>NaN</td>\n",
       "      <td>...</td>\n",
       "      <td>NaN</td>\n",
       "      <td>10</td>\n",
       "      <td>NaN</td>\n",
       "      <td>NaN</td>\n",
       "      <td>NaN</td>\n",
       "      <td>NaN</td>\n",
       "      <td>NaN</td>\n",
       "      <td>NaN</td>\n",
       "      <td>NaN</td>\n",
       "      <td>NaN</td>\n",
       "    </tr>\n",
       "    <tr>\n",
       "      <th>3</th>\n",
       "      <td>1</td>\n",
       "      <td>4</td>\n",
       "      <td>054.0 056.0</td>\n",
       "      <td>19-4903CR-HY-060-0930-05400560-0019A-3</td>\n",
       "      <td>19</td>\n",
       "      <td>10.450</td>\n",
       "      <td>33.4200</td>\n",
       "      <td>NaN</td>\n",
       "      <td>25.64300</td>\n",
       "      <td>NaN</td>\n",
       "      <td>...</td>\n",
       "      <td>NaN</td>\n",
       "      <td>19</td>\n",
       "      <td>NaN</td>\n",
       "      <td>NaN</td>\n",
       "      <td>NaN</td>\n",
       "      <td>NaN</td>\n",
       "      <td>NaN</td>\n",
       "      <td>NaN</td>\n",
       "      <td>NaN</td>\n",
       "      <td>NaN</td>\n",
       "    </tr>\n",
       "    <tr>\n",
       "      <th>4</th>\n",
       "      <td>1</td>\n",
       "      <td>5</td>\n",
       "      <td>054.0 056.0</td>\n",
       "      <td>19-4903CR-HY-060-0930-05400560-0020A-7</td>\n",
       "      <td>20</td>\n",
       "      <td>10.450</td>\n",
       "      <td>33.4210</td>\n",
       "      <td>NaN</td>\n",
       "      <td>25.64300</td>\n",
       "      <td>NaN</td>\n",
       "      <td>...</td>\n",
       "      <td>NaN</td>\n",
       "      <td>20</td>\n",
       "      <td>NaN</td>\n",
       "      <td>NaN</td>\n",
       "      <td>NaN</td>\n",
       "      <td>NaN</td>\n",
       "      <td>NaN</td>\n",
       "      <td>NaN</td>\n",
       "      <td>NaN</td>\n",
       "      <td>NaN</td>\n",
       "    </tr>\n",
       "    <tr>\n",
       "      <th>...</th>\n",
       "      <td>...</td>\n",
       "      <td>...</td>\n",
       "      <td>...</td>\n",
       "      <td>...</td>\n",
       "      <td>...</td>\n",
       "      <td>...</td>\n",
       "      <td>...</td>\n",
       "      <td>...</td>\n",
       "      <td>...</td>\n",
       "      <td>...</td>\n",
       "      <td>...</td>\n",
       "      <td>...</td>\n",
       "      <td>...</td>\n",
       "      <td>...</td>\n",
       "      <td>...</td>\n",
       "      <td>...</td>\n",
       "      <td>...</td>\n",
       "      <td>...</td>\n",
       "      <td>...</td>\n",
       "      <td>...</td>\n",
       "      <td>...</td>\n",
       "    </tr>\n",
       "    <tr>\n",
       "      <th>864858</th>\n",
       "      <td>34404</td>\n",
       "      <td>864859</td>\n",
       "      <td>093.4 026.4</td>\n",
       "      <td>20-1611SR-MX-310-2239-09340264-0000A-7</td>\n",
       "      <td>0</td>\n",
       "      <td>18.744</td>\n",
       "      <td>33.4083</td>\n",
       "      <td>5.805</td>\n",
       "      <td>23.87055</td>\n",
       "      <td>108.74</td>\n",
       "      <td>...</td>\n",
       "      <td>0.18</td>\n",
       "      <td>0</td>\n",
       "      <td>NaN</td>\n",
       "      <td>NaN</td>\n",
       "      <td>NaN</td>\n",
       "      <td>NaN</td>\n",
       "      <td>NaN</td>\n",
       "      <td>NaN</td>\n",
       "      <td>NaN</td>\n",
       "      <td>NaN</td>\n",
       "    </tr>\n",
       "    <tr>\n",
       "      <th>864859</th>\n",
       "      <td>34404</td>\n",
       "      <td>864860</td>\n",
       "      <td>093.4 026.4</td>\n",
       "      <td>20-1611SR-MX-310-2239-09340264-0002A-3</td>\n",
       "      <td>2</td>\n",
       "      <td>18.744</td>\n",
       "      <td>33.4083</td>\n",
       "      <td>5.805</td>\n",
       "      <td>23.87072</td>\n",
       "      <td>108.74</td>\n",
       "      <td>...</td>\n",
       "      <td>0.18</td>\n",
       "      <td>2</td>\n",
       "      <td>4.0</td>\n",
       "      <td>NaN</td>\n",
       "      <td>NaN</td>\n",
       "      <td>NaN</td>\n",
       "      <td>NaN</td>\n",
       "      <td>NaN</td>\n",
       "      <td>NaN</td>\n",
       "      <td>NaN</td>\n",
       "    </tr>\n",
       "    <tr>\n",
       "      <th>864860</th>\n",
       "      <td>34404</td>\n",
       "      <td>864861</td>\n",
       "      <td>093.4 026.4</td>\n",
       "      <td>20-1611SR-MX-310-2239-09340264-0005A-3</td>\n",
       "      <td>5</td>\n",
       "      <td>18.692</td>\n",
       "      <td>33.4150</td>\n",
       "      <td>5.796</td>\n",
       "      <td>23.88911</td>\n",
       "      <td>108.46</td>\n",
       "      <td>...</td>\n",
       "      <td>0.18</td>\n",
       "      <td>5</td>\n",
       "      <td>3.0</td>\n",
       "      <td>NaN</td>\n",
       "      <td>NaN</td>\n",
       "      <td>NaN</td>\n",
       "      <td>NaN</td>\n",
       "      <td>NaN</td>\n",
       "      <td>NaN</td>\n",
       "      <td>NaN</td>\n",
       "    </tr>\n",
       "    <tr>\n",
       "      <th>864861</th>\n",
       "      <td>34404</td>\n",
       "      <td>864862</td>\n",
       "      <td>093.4 026.4</td>\n",
       "      <td>20-1611SR-MX-310-2239-09340264-0010A-3</td>\n",
       "      <td>10</td>\n",
       "      <td>18.161</td>\n",
       "      <td>33.4062</td>\n",
       "      <td>5.816</td>\n",
       "      <td>24.01426</td>\n",
       "      <td>107.74</td>\n",
       "      <td>...</td>\n",
       "      <td>0.31</td>\n",
       "      <td>10</td>\n",
       "      <td>2.0</td>\n",
       "      <td>NaN</td>\n",
       "      <td>NaN</td>\n",
       "      <td>NaN</td>\n",
       "      <td>NaN</td>\n",
       "      <td>NaN</td>\n",
       "      <td>NaN</td>\n",
       "      <td>NaN</td>\n",
       "    </tr>\n",
       "    <tr>\n",
       "      <th>864862</th>\n",
       "      <td>34404</td>\n",
       "      <td>864863</td>\n",
       "      <td>093.4 026.4</td>\n",
       "      <td>20-1611SR-MX-310-2239-09340264-0015A-3</td>\n",
       "      <td>15</td>\n",
       "      <td>17.533</td>\n",
       "      <td>33.3880</td>\n",
       "      <td>5.774</td>\n",
       "      <td>24.15297</td>\n",
       "      <td>105.66</td>\n",
       "      <td>...</td>\n",
       "      <td>0.61</td>\n",
       "      <td>15</td>\n",
       "      <td>1.0</td>\n",
       "      <td>NaN</td>\n",
       "      <td>NaN</td>\n",
       "      <td>NaN</td>\n",
       "      <td>NaN</td>\n",
       "      <td>NaN</td>\n",
       "      <td>NaN</td>\n",
       "      <td>NaN</td>\n",
       "    </tr>\n",
       "  </tbody>\n",
       "</table>\n",
       "<p>864863 rows × 74 columns</p>\n",
       "</div>"
      ],
      "text/plain": [
       "        Cst_Cnt  Btl_Cnt       Sta_ID                                Depth_ID  \\\n",
       "0             1        1  054.0 056.0  19-4903CR-HY-060-0930-05400560-0000A-3   \n",
       "1             1        2  054.0 056.0  19-4903CR-HY-060-0930-05400560-0008A-3   \n",
       "2             1        3  054.0 056.0  19-4903CR-HY-060-0930-05400560-0010A-7   \n",
       "3             1        4  054.0 056.0  19-4903CR-HY-060-0930-05400560-0019A-3   \n",
       "4             1        5  054.0 056.0  19-4903CR-HY-060-0930-05400560-0020A-7   \n",
       "...         ...      ...          ...                                     ...   \n",
       "864858    34404   864859  093.4 026.4  20-1611SR-MX-310-2239-09340264-0000A-7   \n",
       "864859    34404   864860  093.4 026.4  20-1611SR-MX-310-2239-09340264-0002A-3   \n",
       "864860    34404   864861  093.4 026.4  20-1611SR-MX-310-2239-09340264-0005A-3   \n",
       "864861    34404   864862  093.4 026.4  20-1611SR-MX-310-2239-09340264-0010A-3   \n",
       "864862    34404   864863  093.4 026.4  20-1611SR-MX-310-2239-09340264-0015A-3   \n",
       "\n",
       "        Depthm  T_degC   Salnty  O2ml_L    STheta   O2Sat  ...  R_PHAEO  \\\n",
       "0            0  10.500  33.4400     NaN  25.64900     NaN  ...      NaN   \n",
       "1            8  10.460  33.4400     NaN  25.65600     NaN  ...      NaN   \n",
       "2           10  10.460  33.4370     NaN  25.65400     NaN  ...      NaN   \n",
       "3           19  10.450  33.4200     NaN  25.64300     NaN  ...      NaN   \n",
       "4           20  10.450  33.4210     NaN  25.64300     NaN  ...      NaN   \n",
       "...        ...     ...      ...     ...       ...     ...  ...      ...   \n",
       "864858       0  18.744  33.4083   5.805  23.87055  108.74  ...     0.18   \n",
       "864859       2  18.744  33.4083   5.805  23.87072  108.74  ...     0.18   \n",
       "864860       5  18.692  33.4150   5.796  23.88911  108.46  ...     0.18   \n",
       "864861      10  18.161  33.4062   5.816  24.01426  107.74  ...     0.31   \n",
       "864862      15  17.533  33.3880   5.774  24.15297  105.66  ...     0.61   \n",
       "\n",
       "        R_PRES  R_SAMP  DIC1  DIC2  TA1  TA2  pH2  pH1  DIC Quality Comment  \n",
       "0            0     NaN   NaN   NaN  NaN  NaN  NaN  NaN                  NaN  \n",
       "1            8     NaN   NaN   NaN  NaN  NaN  NaN  NaN                  NaN  \n",
       "2           10     NaN   NaN   NaN  NaN  NaN  NaN  NaN                  NaN  \n",
       "3           19     NaN   NaN   NaN  NaN  NaN  NaN  NaN                  NaN  \n",
       "4           20     NaN   NaN   NaN  NaN  NaN  NaN  NaN                  NaN  \n",
       "...        ...     ...   ...   ...  ...  ...  ...  ...                  ...  \n",
       "864858       0     NaN   NaN   NaN  NaN  NaN  NaN  NaN                  NaN  \n",
       "864859       2     4.0   NaN   NaN  NaN  NaN  NaN  NaN                  NaN  \n",
       "864860       5     3.0   NaN   NaN  NaN  NaN  NaN  NaN                  NaN  \n",
       "864861      10     2.0   NaN   NaN  NaN  NaN  NaN  NaN                  NaN  \n",
       "864862      15     1.0   NaN   NaN  NaN  NaN  NaN  NaN                  NaN  \n",
       "\n",
       "[864863 rows x 74 columns]"
      ]
     },
     "execution_count": 3,
     "metadata": {},
     "output_type": "execute_result"
    }
   ],
   "source": [
    "df"
   ]
  },
  {
   "cell_type": "markdown",
   "metadata": {
    "id": "-7py43rSBtek"
   },
   "source": [
    "Now, we will create a mask to remove the rows of the dataframe which do not contain any entries for Salinity and Temperature column."
   ]
  },
  {
   "cell_type": "code",
   "execution_count": 4,
   "metadata": {
    "id": "VWeo5qUrifcr"
   },
   "outputs": [],
   "source": [
    "df = df[df['Salnty'].isnull() == False]\n",
    "df = df[df['T_degC'].isnull() == False]"
   ]
  },
  {
   "cell_type": "markdown",
   "metadata": {
    "id": "PUF63tQeCIiv"
   },
   "source": [
    "The below step is for checking if there are any null entries for the Salinity column."
   ]
  },
  {
   "cell_type": "code",
   "execution_count": 5,
   "metadata": {
    "colab": {
     "base_uri": "https://localhost:8080/"
    },
    "id": "4RLFNWhoi00q",
    "outputId": "888c6167-a8b6-4f66-946d-a0a76d446f1b"
   },
   "outputs": [
    {
     "data": {
      "text/plain": [
       "0"
      ]
     },
     "execution_count": 5,
     "metadata": {},
     "output_type": "execute_result"
    }
   ],
   "source": [
    "df['Salnty'].isnull().sum()"
   ]
  },
  {
   "cell_type": "code",
   "execution_count": 6,
   "metadata": {
    "id": "81zEjFCCpuKo"
   },
   "outputs": [],
   "source": [
    "salin_data = df.Salnty\n",
    "temp_data = df.T_degC\n",
    "salin_data = salin_data[:1000]\n",
    "temp_data = temp_data[:1000]"
   ]
  },
  {
   "cell_type": "code",
   "execution_count": 7,
   "metadata": {
    "id": "RUxcb4h3roya"
   },
   "outputs": [],
   "source": [
    "# initializing the variables and parameters\n",
    "A,B = 0,0\n",
    "no_of_epochs = 10000\n",
    "cnt = 0\n",
    "batch_size = 1000\n",
    "loss = []\n",
    "lr = 0.005\n",
    "x_data,y_data = [],[]"
   ]
  },
  {
   "cell_type": "code",
   "execution_count": 8,
   "metadata": {
    "colab": {
     "base_uri": "https://localhost:8080/"
    },
    "id": "M4WqYxlIqhdb",
    "outputId": "677adfd2-90d1-428c-9fd0-26325478d6b0",
    "scrolled": true
   },
   "outputs": [
    {
     "name": "stdout",
     "output_type": "stream",
     "text": [
      "After 100 th epoch, the error is  117.02886202575587\n",
      "After 200 th epoch, the error is  91.18041652271\n",
      "After 300 th epoch, the error is  71.04464063515209\n",
      "After 400 th epoch, the error is  55.35899831882074\n",
      "After 500 th epoch, the error is  43.13998196455578\n",
      "After 600 th epoch, the error is  33.62144535287086\n",
      "After 700 th epoch, the error is  26.206565414817437\n",
      "After 800 th epoch, the error is  20.430420746922398\n",
      "After 900 th epoch, the error is  15.93084051053476\n",
      "After 1000 th epoch, the error is  12.4256959084228\n",
      "After 1100 th epoch, the error is  9.695210388382772\n",
      "After 1200 th epoch, the error is  7.568179403511016\n",
      "After 1300 th epoch, the error is  5.911235692438624\n",
      "After 1400 th epoch, the error is  4.6204870003936325\n",
      "After 1500 th epoch, the error is  3.615001916692407\n",
      "After 1600 th epoch, the error is  2.8317353832637586\n",
      "After 1700 th epoch, the error is  2.2215756978201706\n",
      "After 1800 th epoch, the error is  1.7462651542802432\n",
      "After 1900 th epoch, the error is  1.376001241094997\n",
      "After 2000 th epoch, the error is  1.087567989885751\n",
      "After 2100 th epoch, the error is  0.8628803078282611\n",
      "After 2200 th epoch, the error is  0.6878500217682373\n",
      "After 2300 th epoch, the error is  0.5515025337452583\n",
      "After 2400 th epoch, the error is  0.4452887012214139\n",
      "After 2500 th epoch, the error is  0.36254879612315793\n",
      "After 2600 th epoch, the error is  0.2980949323184821\n",
      "After 2700 th epoch, the error is  0.24788577925723007\n",
      "After 2800 th epoch, the error is  0.20877316595031034\n",
      "After 2900 th epoch, the error is  0.17830468706896785\n",
      "After 3000 th epoch, the error is  0.15456993434206812\n",
      "After 3100 th epoch, the error is  0.13608071178517833\n",
      "After 3200 th epoch, the error is  0.12167772412014606\n",
      "After 3300 th epoch, the error is  0.11045788764293532\n",
      "After 3400 th epoch, the error is  0.1017177058484939\n",
      "After 3500 th epoch, the error is  0.09490915939998495\n",
      "After 3600 th epoch, the error is  0.089605344693175\n",
      "After 3700 th epoch, the error is  0.08547370651505289\n",
      "After 3800 th epoch, the error is  0.08225518645382325\n",
      "After 3900 th epoch, the error is  0.07974797964191474\n",
      "After 4000 th epoch, the error is  0.07779488136130674\n",
      "After 4100 th epoch, the error is  0.07627343012896641\n",
      "After 4200 th epoch, the error is  0.07508822922260575\n",
      "After 4300 th epoch, the error is  0.07416496519771837\n",
      "After 4400 th epoch, the error is  0.07344574835011458\n",
      "After 4500 th epoch, the error is  0.07288548296563689\n",
      "After 4600 th epoch, the error is  0.07244903976760962\n",
      "After 4700 th epoch, the error is  0.07210905327124055\n",
      "After 4800 th epoch, the error is  0.07184420593661653\n",
      "After 4900 th epoch, the error is  0.07163789153470057\n",
      "After 5000 th epoch, the error is  0.07147717391789578\n",
      "After 5100 th epoch, the error is  0.07135197590887962\n",
      "After 5200 th epoch, the error is  0.07125444745012442\n",
      "After 5300 th epoch, the error is  0.07117847339636832\n",
      "After 5400 th epoch, the error is  0.07111929008805222\n",
      "After 5500 th epoch, the error is  0.07107318666444808\n",
      "After 5600 th epoch, the error is  0.0710372723884719\n",
      "After 5700 th epoch, the error is  0.07100929539418274\n",
      "After 5800 th epoch, the error is  0.0709875014922275\n",
      "After 5900 th epoch, the error is  0.07097052418017032\n",
      "After 6000 th epoch, the error is  0.07095729896124109\n",
      "After 6100 th epoch, the error is  0.0709469965991747\n",
      "After 6200 th epoch, the error is  0.07093897112415534\n",
      "After 6300 th epoch, the error is  0.070932719329773\n",
      "After 6400 th epoch, the error is  0.0709278492214114\n",
      "After 6500 th epoch, the error is  0.07092405543773872\n",
      "After 6600 th epoch, the error is  0.07092110010420444\n",
      "After 6700 th epoch, the error is  0.07091879791803608\n",
      "After 6800 th epoch, the error is  0.07091700452954251\n",
      "After 6900 th epoch, the error is  0.07091560749122618\n",
      "After 7000 th epoch, the error is  0.07091451920719609\n",
      "After 7100 th epoch, the error is  0.07091367144080599\n",
      "After 7200 th epoch, the error is  0.07091301103613933\n",
      "After 7300 th epoch, the error is  0.07091249658507263\n",
      "After 7400 th epoch, the error is  0.07091209583093891\n",
      "After 7500 th epoch, the error is  0.0709117836459984\n",
      "After 7600 th epoch, the error is  0.07091154045590024\n",
      "After 7700 th epoch, the error is  0.07091135101234895\n",
      "After 7800 th epoch, the error is  0.07091120343701826\n",
      "After 7900 th epoch, the error is  0.07091108847676711\n",
      "After 8000 th epoch, the error is  0.0709109989234571\n",
      "After 8100 th epoch, the error is  0.07091092916199389\n",
      "After 8200 th epoch, the error is  0.07091087481825455\n",
      "After 8300 th epoch, the error is  0.07091083248482451\n",
      "After 8400 th epoch, the error is  0.07091079950734963\n",
      "After 8500 th epoch, the error is  0.07091077381810493\n",
      "After 8600 th epoch, the error is  0.0709107538063455\n",
      "After 8700 th epoch, the error is  0.07091073821731109\n",
      "After 8800 th epoch, the error is  0.07091072607355195\n",
      "After 8900 th epoch, the error is  0.07091071661364003\n",
      "After 9000 th epoch, the error is  0.07091070924442844\n",
      "After 9100 th epoch, the error is  0.07091070350385906\n",
      "After 9200 th epoch, the error is  0.07091069903199171\n",
      "After 9300 th epoch, the error is  0.07091069554843536\n",
      "After 9400 th epoch, the error is  0.07091069283476698\n",
      "After 9500 th epoch, the error is  0.07091069072083638\n",
      "After 9600 th epoch, the error is  0.07091068907409777\n",
      "After 9700 th epoch, the error is  0.07091068779129885\n",
      "After 9800 th epoch, the error is  0.07091068679200653\n",
      "After 9900 th epoch, the error is  0.0709106860135642\n",
      "After 10000 th epoch, the error is  0.07091068540716246\n"
     ]
    }
   ],
   "source": [
    "for i in range(no_of_epochs):\n",
    "    salin_pred = A*temp_data + B\n",
    "    error = (((salin_pred - salin_data)**2).sum())/batch_size\n",
    "    dA = ((2*temp_data*(salin_data - salin_pred)).sum())/batch_size\n",
    "    dB = ((2*(salin_data - salin_pred)).sum())/batch_size\n",
    "    A = A + dA*lr \n",
    "    B = B + dB*lr\n",
    "    loss = loss + [error]\n",
    "    if (i+1)%100 == 0:\n",
    "        print(\"After {} th epoch, the error is \".format(i+1),error)"
   ]
  },
  {
   "cell_type": "markdown",
   "metadata": {
    "id": "0DV2S0hPCvyD"
   },
   "source": [
    "Now, we will see the performance of the model  by comparing the data-points of the model and the linear fit provided by the model visually with the help of graph."
   ]
  },
  {
   "cell_type": "code",
   "execution_count": 9,
   "metadata": {
    "colab": {
     "base_uri": "https://localhost:8080/",
     "height": 269
    },
    "id": "jIzd0jXFcn9D",
    "outputId": "27c94063-2da5-4307-958d-3eb31c2250b0"
   },
   "outputs": [
    {
     "data": {
      "image/png": "[encoded data removed]",
      "text/plain": [
       "<Figure size 640x480 with 1 Axes>"
      ]
     },
     "metadata": {},
     "output_type": "display_data"
    }
   ],
   "source": [
    "x = np.linspace(2.5,15,20)\n",
    "y = x * A + B\n",
    "plt.plot(temp_data[:1000],salin_data[:1000],'o')\n",
    "plt.plot(x,y,linewidth = 5)\n",
    "\n",
    "plt.show()\n"
   ]
  }
 ],
 "metadata": {
  "colab": {
   "collapsed_sections": [],
   "provenance": []
  },
  "kernelspec": {
   "display_name": "Deep_Learning",
   "language": "python",
   "name": "deep_learning"
  },
  "language_info": {
   "codemirror_mode": {
    "name": "ipython",
    "version": 3
   },
   "file_extension": ".py",
   "mimetype": "text/x-python",
   "name": "python",
   "nbconvert_exporter": "python",
   "pygments_lexer": "ipython3",
   "version": "3.10.11"
  }
 },
 "nbformat": 4,
 "nbformat_minor": 1
}
