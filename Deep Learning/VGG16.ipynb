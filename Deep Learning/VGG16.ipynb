{
 "cells": [
  {
   "cell_type": "markdown",
   "id": "8883cc01",
   "metadata": {
    "id": "8883cc01"
   },
   "source": [
    "# VGG 16\n"
   ]
  },
  {
   "cell_type": "markdown",
   "id": "7cfc9245",
   "metadata": {
    "id": "7cfc9245"
   },
   "source": [
    "## Implementation of VGG-16 in Keras"
   ]
  },
  {
   "cell_type": "code",
   "execution_count": null,
   "id": "25b3c0cb",
   "metadata": {
    "id": "25b3c0cb"
   },
   "outputs": [],
   "source": [
    "import keras,os\n",
    "from keras.models import Sequential\n",
    "from keras.layers import Dense, Conv2D, MaxPool2D , Flatten\n",
    "from keras.preprocessing.image import ImageDataGenerator\n",
    "import numpy as np\n",
    "import matplotlib.pyplot as plt\n",
    "import glob\n",
    "import tensorflow as tf\n",
    "import pandas as pd\n",
    "import cv2"
   ]
  },
  {
   "cell_type": "code",
   "execution_count": null,
   "id": "571b003b",
   "metadata": {
    "colab": {
     "base_uri": "https://localhost:8080/"
    },
    "id": "571b003b",
    "outputId": "9d50581b-a675-4f5f-b347-10f4f61ffa73",
    "scrolled": true
   },
   "outputs": [],
   "source": [
    "from tensorflow.keras.datasets import cifar10\n",
    "\n",
    "# importing the cifar-10 datasets. This dataset contains 10 classes of objects.\n",
    "# It contains 5000 training examples and 1000 test images for each class\n",
    "\n",
    "(x_train,y_train),(x_test, y_test) = cifar10.load_data()"
   ]
  },
  {
   "cell_type": "code",
   "execution_count": null,
   "id": "20d155ff",
   "metadata": {
    "id": "20d155ff"
   },
   "outputs": [],
   "source": [
    "x_train,y_train = tf.convert_to_tensor(x_train, dtype = tf.float32),tf.convert_to_tensor(y_train, dtype = tf.float32)\n",
    "x_test, y_test = tf.convert_to_tensor(x_test, dtype = tf.float32), tf.convert_to_tensor(y_test, dtype = tf.float32)"
   ]
  },
  {
   "cell_type": "code",
   "execution_count": null,
   "id": "173bba9a",
   "metadata": {
    "id": "173bba9a"
   },
   "outputs": [],
   "source": [
    "# Let us create the model now \n",
    "\n",
    "model = Sequential()\n",
    "model.add(tf.keras.layers.Resizing(224,224))\n",
    "model.add(Conv2D(input_shape=(224,224,3),filters=64,kernel_size=(3,3),padding=\"same\", activation=\"relu\"))\n",
    "model.add(Conv2D(filters=64,kernel_size=(3,3),padding=\"same\", activation=\"relu\"))\n",
    "model.add(MaxPool2D(pool_size=(2,2),strides=(2,2)))\n",
    "\n",
    "model.add(Conv2D(filters=128, kernel_size=(3,3), padding=\"same\", activation=\"relu\"))\n",
    "model.add(Conv2D(filters=128, kernel_size=(3,3), padding=\"same\", activation=\"relu\"))\n",
    "model.add(MaxPool2D(pool_size=(2,2),strides=(2,2)))\n",
    "\n",
    "model.add(Conv2D(filters=256, kernel_size=(3,3), padding=\"same\", activation=\"relu\"))\n",
    "model.add(Conv2D(filters=256, kernel_size=(3,3), padding=\"same\", activation=\"relu\"))\n",
    "model.add(Conv2D(filters=256, kernel_size=(3,3), padding=\"same\", activation=\"relu\"))\n",
    "model.add(MaxPool2D(pool_size=(2,2),strides=(2,2)))\n",
    "\n",
    "model.add(Conv2D(filters=512, kernel_size=(3,3), padding=\"same\", activation=\"relu\"))\n",
    "model.add(Conv2D(filters=512, kernel_size=(3,3), padding=\"same\", activation=\"relu\"))\n",
    "model.add(Conv2D(filters=512, kernel_size=(3,3), padding=\"same\", activation=\"relu\"))\n",
    "model.add(MaxPool2D(pool_size=(2,2),strides=(2,2)))\n",
    "\n",
    "model.add(Conv2D(filters=512, kernel_size=(3,3), padding=\"same\", activation=\"relu\"))\n",
    "model.add(Conv2D(filters=512, kernel_size=(3,3), padding=\"same\", activation=\"relu\"))\n",
    "model.add(Conv2D(filters=512, kernel_size=(3,3), padding=\"same\", activation=\"relu\"))\n",
    "model.add(MaxPool2D(pool_size=(2,2),strides=(2,2)))\n",
    "\n",
    "model.add(Flatten())\n",
    "model.add(Dense(units=4096,activation=\"relu\"))\n",
    "model.add(Dense(units=4096,activation=\"relu\"))\n",
    "model.add(Dense(units=10, activation=\"softmax\"))"
   ]
  },
  {
   "cell_type": "code",
   "execution_count": null,
   "id": "c6bffd36",
   "metadata": {
    "id": "c6bffd36"
   },
   "outputs": [],
   "source": [
    "model.compile(optimizer=tf.keras.optimizers.Adam(learning_rate=1e-3),loss=tf.keras.losses.SparseCategoricalCrossentropy(), metrics=['accuracy'])"
   ]
  },
  {
   "cell_type": "code",
   "execution_count": null,
   "id": "bbf3fa47",
   "metadata": {
    "colab": {
     "base_uri": "https://localhost:8080/"
    },
    "id": "bbf3fa47",
    "outputId": "b1a9076c-08b7-4357-b13f-68fa3f1dc62e"
   },
   "outputs": [],
   "source": [
    "history = model.fit(x_train, y_train, batch_size = 100, epochs = 10)"
   ]
  },
  {
   "cell_type": "code",
   "execution_count": null,
   "id": "6ab48e49",
   "metadata": {
    "colab": {
     "base_uri": "https://localhost:8080/",
     "height": 165
    },
    "id": "6ab48e49",
    "outputId": "5ac01578-9df4-47c5-df4d-58fdff4cc3f2"
   },
   "outputs": [],
   "source": [
    "model.summary()"
   ]
  },
  {
   "cell_type": "code",
   "execution_count": null,
   "id": "rVloOy6W1sb3",
   "metadata": {
    "id": "rVloOy6W1sb3"
   },
   "outputs": [],
   "source": [
    "train_loss = history.history['loss']\n",
    "train_accuracy= history.history['accuracy']"
   ]
  },
  {
   "cell_type": "code",
   "execution_count": null,
   "id": "i2DEBbxk4iAw",
   "metadata": {
    "id": "i2DEBbxk4iAw"
   },
   "outputs": [],
   "source": [
    "results = model.evaluate(x_test, y_test, batch_size = 32)\n",
    "print(\"test loss, test acc:\", results)"
   ]
  },
  {
   "cell_type": "code",
   "execution_count": null,
   "id": "fJBUQoP_4UUh",
   "metadata": {
    "id": "fJBUQoP_4UUh"
   },
   "outputs": [],
   "source": [
    "plt.figure()\n",
    "plt.title(\"Error of the model vs the number of iterations\")\n",
    "plt.plot(range(1,21), train_loss, label = \"Training Loss\")\n",
    "plt.xlabel(\"Number of Iterations\")\n",
    "plt.ylabel(\"Error of the model\")\n",
    "plt.legend()\n",
    "plt.show()\n",
    "\n",
    "plt.figure()\n",
    "plt.title(\"Accuracy of the model vs the number of iterations\")\n",
    "plt.plot(range(1,21), np.array(train_accuracy)*100, label = 'Training Accuracy')\n",
    "plt.xlabel(\"Number of Iterations\")\n",
    "plt.ylabel(\"Accuracy of the model\")\n",
    "plt.legend()\n",
    "plt.show()"
   ]
  },
  {
   "cell_type": "markdown",
   "id": "gw8ZFqbJ5r4O",
   "metadata": {
    "id": "gw8ZFqbJ5r4O"
   },
   "source": [
    "## Implementation of VGG16 in Pytorch"
   ]
  },
  {
   "cell_type": "code",
   "execution_count": null,
   "id": "revdjvFZ5x1U",
   "metadata": {
    "id": "revdjvFZ5x1U"
   },
   "outputs": [],
   "source": [
    "import numpy as np\n",
    "import torch\n",
    "import torch.nn as nn\n",
    "from torchvision import datasets\n",
    "from torchvision import transforms\n",
    "from torch.utils.data.sampler import SubsetRandomSampler\n",
    "from torch.utils.data import DataLoader, Dataset\n",
    "\n",
    "\n",
    "# Device configuration\n",
    "device = torch.device('cuda' if torch.cuda.is_available() else 'cpu')"
   ]
  },
  {
   "cell_type": "code",
   "execution_count": null,
   "id": "B3_m8owvk9_I",
   "metadata": {
    "id": "B3_m8owvk9_I"
   },
   "outputs": [],
   "source": [
    "stats = ((0.5074,0.4867,0.4411),(0.2011,0.1987,0.2025))\n",
    "transform = transforms.Compose([transforms.Resize((224, 224)),transforms.ToTensor(),transforms.Normalize(*stats)])"
   ]
  },
  {
   "cell_type": "code",
   "execution_count": null,
   "id": "kJa4Uwkgawt4",
   "metadata": {
    "colab": {
     "base_uri": "https://localhost:8080/",
     "height": 84,
     "referenced_widgets": [
      "df73380fa2534d21b56f1ef0ccf221d6",
      "e10229890b30422d87805ef62b0673de",
      "90a5a6312e7b46758843d14e8e3d134f",
      "b21bfc9ee57a4296b8d4c97540c26f1f",
      "bbae990dec274b0396601452b98064a1",
      "689e5b6708b24bb49268636e1194ed79",
      "54b475a675ce479e950165000046595f",
      "eb70b3293c1e4dd69584c3588ded2889",
      "3538f4e4eab240df96df2b006d29b41c",
      "5d9f4f0a6c354bcaa82236c008208c07",
      "53cb5fc6b0664d05b6ad5f42d82ee876"
     ]
    },
    "id": "kJa4Uwkgawt4",
    "outputId": "dbd8c3df-ea1c-4bc3-bdec-30a1661516c4"
   },
   "outputs": [],
   "source": [
    "# Let us use Cifar-100 datasets for model in pytorch\n",
    "\n",
    "train_data = datasets.CIFAR10(download=True,root=\"./data\",transform = transform)\n",
    "test_data = datasets.CIFAR10(root=\"./data\",train=False, transform = transform)"
   ]
  },
  {
   "cell_type": "code",
   "execution_count": null,
   "id": "Gzb6pNYkfORi",
   "metadata": {
    "id": "Gzb6pNYkfORi"
   },
   "outputs": [],
   "source": [
    "train_loader = DataLoader(train_data, batch_size = 32, shuffle = True)\n",
    "test_loader = DataLoader(test_data, batch_size = 32, shuffle = True)"
   ]
  },
  {
   "cell_type": "code",
   "execution_count": null,
   "id": "y9GmETjWmeJW",
   "metadata": {
    "id": "y9GmETjWmeJW"
   },
   "outputs": [],
   "source": [
    "class VGG16(nn.Module):\n",
    "    def __init__(self):\n",
    "        super(VGG16, self).__init__()\n",
    "        \n",
    "        self.layer1 = nn.Sequential(\n",
    "            nn.Conv2d(3, 64, kernel_size=3, stride=1, padding=1),\n",
    "            nn.BatchNorm2d(64),\n",
    "            nn.ReLU())\n",
    "        \n",
    "        self.layer2 = nn.Sequential(\n",
    "            nn.Conv2d(64, 64, kernel_size=3, stride=1, padding=1),\n",
    "            nn.BatchNorm2d(64),\n",
    "            nn.ReLU(), \n",
    "            nn.MaxPool2d(kernel_size = 2, stride = 2))\n",
    "        \n",
    "        self.layer3 = nn.Sequential(\n",
    "            nn.Conv2d(64, 128, kernel_size=3, stride=1, padding=1),\n",
    "            nn.BatchNorm2d(128),\n",
    "            nn.ReLU())\n",
    "        \n",
    "        self.layer4 = nn.Sequential(\n",
    "            nn.Conv2d(128, 128, kernel_size=3, stride=1, padding=1),\n",
    "            nn.BatchNorm2d(128),\n",
    "            nn.ReLU(),\n",
    "            nn.MaxPool2d(kernel_size = 2, stride = 2))\n",
    "        \n",
    "        self.layer5 = nn.Sequential(\n",
    "            nn.Conv2d(128, 256, kernel_size=3, stride=1, padding=1),\n",
    "            nn.BatchNorm2d(256),\n",
    "            nn.ReLU())\n",
    "        \n",
    "        self.layer6 = nn.Sequential(\n",
    "            nn.Conv2d(256, 256, kernel_size=3, stride=1, padding=1),\n",
    "            nn.BatchNorm2d(256),\n",
    "            nn.ReLU())\n",
    "        \n",
    "        self.layer7 = nn.Sequential(\n",
    "            nn.Conv2d(256, 256, kernel_size=3, stride=1, padding=1),\n",
    "            nn.BatchNorm2d(256),\n",
    "            nn.ReLU(),\n",
    "            nn.MaxPool2d(kernel_size = 2, stride = 2))\n",
    "        \n",
    "        self.layer8 = nn.Sequential(\n",
    "            nn.Conv2d(256, 512, kernel_size=3, stride=1, padding=1),\n",
    "            nn.BatchNorm2d(512),\n",
    "            nn.ReLU())\n",
    "        \n",
    "        self.layer9 = nn.Sequential(\n",
    "            nn.Conv2d(512, 512, kernel_size=3, stride=1, padding=1),\n",
    "            nn.BatchNorm2d(512),\n",
    "            nn.ReLU())\n",
    "        \n",
    "        self.layer10 = nn.Sequential(\n",
    "            nn.Conv2d(512, 512, kernel_size=3, stride=1, padding=1),\n",
    "            nn.BatchNorm2d(512),\n",
    "            nn.ReLU(),\n",
    "            nn.MaxPool2d(kernel_size = 2, stride = 2))\n",
    "        \n",
    "        self.layer11 = nn.Sequential(\n",
    "            nn.Conv2d(512, 512, kernel_size=3, stride=1, padding=1),\n",
    "            nn.BatchNorm2d(512),\n",
    "            nn.ReLU())\n",
    "        \n",
    "        self.layer12 = nn.Sequential(\n",
    "            nn.Conv2d(512, 512, kernel_size=3, stride=1, padding=1),\n",
    "            nn.BatchNorm2d(512),\n",
    "            nn.ReLU())\n",
    "        \n",
    "        self.layer13 = nn.Sequential(\n",
    "            nn.Conv2d(512, 512, kernel_size=3, stride=1, padding=1),\n",
    "            nn.BatchNorm2d(512),\n",
    "            nn.ReLU(),\n",
    "            nn.MaxPool2d(kernel_size = 2, stride = 2))\n",
    "        \n",
    "        self.fc = nn.Sequential(\n",
    "            nn.Linear(7*7*512, 4096),\n",
    "            nn.ReLU())\n",
    "        \n",
    "        self.fc1 = nn.Sequential(\n",
    "            nn.Linear(4096, 4096),\n",
    "            nn.ReLU())\n",
    "        \n",
    "        self.fc2= nn.Sequential(\n",
    "            nn.Linear(4096, 10))\n",
    "        \n",
    "    def forward(self, x):\n",
    "        out = self.layer1(x)\n",
    "        out = self.layer2(out)\n",
    "        out = self.layer3(out)\n",
    "        out = self.layer4(out)\n",
    "        out = self.layer5(out)\n",
    "        out = self.layer6(out)\n",
    "        out = self.layer7(out)\n",
    "        out = self.layer8(out)\n",
    "        out = self.layer9(out)\n",
    "        out = self.layer10(out)\n",
    "        out = self.layer11(out)\n",
    "        out = self.layer12(out)\n",
    "        out = self.layer13(out)\n",
    "        out = out.reshape(out.size(0), -1)\n",
    "        out = self.fc(out)\n",
    "        out = self.fc1(out)\n",
    "        out = self.fc2(out)\n",
    "        return out"
   ]
  },
  {
   "cell_type": "code",
   "execution_count": null,
   "id": "ZLd1KjfXkgym",
   "metadata": {
    "id": "ZLd1KjfXkgym"
   },
   "outputs": [],
   "source": [
    "epochs = 10\n",
    "model = VGG16().to(device)\n",
    "optim = torch.optim.SGD(model.parameters(), lr=0.01,momentum=0.9)\n",
    "criterion = nn.CrossEntropyLoss()\n",
    "training_loss, testing_loss = [],[]\n",
    "training_accuracy, testing_accuracy = [],[]"
   ]
  },
  {
   "cell_type": "code",
   "execution_count": null,
   "id": "ZNtOc250lubD",
   "metadata": {
    "id": "ZNtOc250lubD"
   },
   "outputs": [],
   "source": [
    "def multi_acc(y_pred, target):\n",
    "    y_pred_softmax = torch.log_softmax(y_pred, dim = 1)\n",
    "    max_val, y_tags = torch.max(y_pred_softmax, dim = 1)\n",
    "    \n",
    "    correct_pred = (y_tags == target).float()\n",
    "    acc = correct_pred.sum() / len(correct_pred)\n",
    "    \n",
    "    return acc"
   ]
  },
  {
   "cell_type": "code",
   "execution_count": null,
   "id": "25V5JL1SlTRe",
   "metadata": {
    "colab": {
     "base_uri": "https://localhost:8080/"
    },
    "id": "25V5JL1SlTRe",
    "outputId": "96e12102-a764-4641-c54f-cc57e939e8f6"
   },
   "outputs": [],
   "source": [
    "for epoch in range(epochs):\n",
    "    print(\"Epoch :\",epoch+1)\n",
    "    batch_train_loss, batch_test_loss = [],[]\n",
    "    batch_train_accuracy, batch_test_accuracy = [],[]\n",
    "    \n",
    "    for cnt,(x_val, y_val) in enumerate(train_loader) :\n",
    "        x_val, y_val = x_val.to(device), y_val.to(device)\n",
    "        optim.zero_grad()\n",
    "        output = model(x_val)\n",
    "        train_loss = criterion(output, y_val)\n",
    "        train_loss.backward()\n",
    "        optim.step()\n",
    "        with torch.no_grad():\n",
    "             batch_train_loss.append(train_loss.cpu().detach().numpy())\n",
    "             train_accuracy = multi_acc(output, y_val)\n",
    "             batch_train_accuracy.append(train_accuracy.cpu().detach().numpy())\n",
    "             print(\"Batch number {}/1563 Training Accuracy {}, Training Loss {}\".format(cnt+1,train_accuracy, train_loss))\n",
    " \n",
    "    for cnt,(x, y) in enumerate(test_loader) :\n",
    "        x, y = x.to(device), y.to(device)\n",
    "        out = model(x)\n",
    "        test_loss = criterion(out, y)\n",
    "        batch_test_loss.append(test_loss.cpu().detach().numpy())\n",
    "        test_accuracy = multi_acc(out, y)\n",
    "        batch_test_accuracy.append(test_accuracy.cpu().detach().numpy())\n",
    "        print(\"Batch number {}/313 Testing Accuracy {}, Testing Loss {}\".format(cnt+1,test_accuracy, test_loss))\n",
    "        \n",
    "    training_loss.append(np.array(batch_train_loss).mean())\n",
    "    training_accuracy.append(np.array(batch_train_accuracy).mean())\n",
    "    testing_loss.append(np.array(batch_test_loss).mean())\n",
    "    testing_accuracy.append(np.array(batch_test_accuracy).mean())"
   ]
  },
  {
   "cell_type": "code",
   "execution_count": null,
   "id": "9wrseij4pP_W",
   "metadata": {
    "id": "9wrseij4pP_W"
   },
   "outputs": [],
   "source": [
    "plt.figure()\n",
    "plt.title(\"Evolution of loss function\")\n",
    "plt.plot(range(epochs),training_loss, label = \"Training Loss\")\n",
    "plt.plot(range(epochs), testing_loss, label = \"Testing loss\")\n",
    "plt.xlabel(\"Number of iterations\")\n",
    "plt.ylabel(\"Loss in the model\")\n",
    "plt.legend()\n",
    "plt.show()\n",
    "\n",
    "plt.figure()\n",
    "plt.title(\"Evolution of Accuracy\")\n",
    "plt.plot(range(epochs), training_accuracy, label = \"Training Accuracy\")\n",
    "plt.plot(range(epochs), testing_accuracy, label = \"Testing Accuracy\")\n",
    "plt.xlabel(\"Number of iterations\")\n",
    "plt.ylabel(\"Accuracy of the model\")\n",
    "plt.legend()\n",
    "plt.show()"
   ]
  },
  {
   "cell_type": "code",
   "execution_count": null,
   "id": "1L1X_4IJpSSh",
   "metadata": {
    "id": "1L1X_4IJpSSh"
   },
   "outputs": [],
   "source": [
    "from sklearn.metrics import confusion_matrix,classification_report\n",
    "model.to(torch.device('cpu'))\n",
    "y_pred = model(x_test)\n",
    "y_pred_softmax = torch.log_softmax(y_pred, dim = 1)\n",
    "max_val, y_tags = torch.max(y_pred_softmax, dim = 1)\n",
    "\n",
    "print(\"Confusion Matrix for the model is\")\n",
    "print(confusion_matrix(y_test, y_tags))\n",
    "\n",
    "print()"
   ]
  }
 ],
 "metadata": {
  "accelerator": "GPU",
  "colab": {
   "provenance": []
  },
  "gpuClass": "standard",
  "kernelspec": {
   "display_name": "Python 3",
   "language": "python",
   "name": "python3"
  },
  "language_info": {
   "codemirror_mode": {
    "name": "ipython",
    "version": 3
   },
   "file_extension": ".py",
   "mimetype": "text/x-python",
   "name": "python",
   "nbconvert_exporter": "python",
   "pygments_lexer": "ipython3",
   "version": "3.8.8"
  },
  "widgets": {
   "application/vnd.jupyter.widget-state+json": {
    "3538f4e4eab240df96df2b006d29b41c": {
     "model_module": "@jupyter-widgets/controls",
     "model_module_version": "1.5.0",
     "model_name": "ProgressStyleModel",
     "state": {
      "_model_module": "@jupyter-widgets/controls",
      "_model_module_version": "1.5.0",
      "_model_name": "ProgressStyleModel",
      "_view_count": null,
      "_view_module": "@jupyter-widgets/base",
      "_view_module_version": "1.2.0",
      "_view_name": "StyleView",
      "bar_color": null,
      "description_width": ""
     }
    },
    "53cb5fc6b0664d05b6ad5f42d82ee876": {
     "model_module": "@jupyter-widgets/controls",
     "model_module_version": "1.5.0",
     "model_name": "DescriptionStyleModel",
     "state": {
      "_model_module": "@jupyter-widgets/controls",
      "_model_module_version": "1.5.0",
      "_model_name": "DescriptionStyleModel",
      "_view_count": null,
      "_view_module": "@jupyter-widgets/base",
      "_view_module_version": "1.2.0",
      "_view_name": "StyleView",
      "description_width": ""
     }
    },
    "54b475a675ce479e950165000046595f": {
     "model_module": "@jupyter-widgets/controls",
     "model_module_version": "1.5.0",
     "model_name": "DescriptionStyleModel",
     "state": {
      "_model_module": "@jupyter-widgets/controls",
      "_model_module_version": "1.5.0",
      "_model_name": "DescriptionStyleModel",
      "_view_count": null,
      "_view_module": "@jupyter-widgets/base",
      "_view_module_version": "1.2.0",
      "_view_name": "StyleView",
      "description_width": ""
     }
    },
    "5d9f4f0a6c354bcaa82236c008208c07": {
     "model_module": "@jupyter-widgets/base",
     "model_module_version": "1.2.0",
     "model_name": "LayoutModel",
     "state": {
      "_model_module": "@jupyter-widgets/base",
      "_model_module_version": "1.2.0",
      "_model_name": "LayoutModel",
      "_view_count": null,
      "_view_module": "@jupyter-widgets/base",
      "_view_module_version": "1.2.0",
      "_view_name": "LayoutView",
      "align_content": null,
      "align_items": null,
      "align_self": null,
      "border": null,
      "bottom": null,
      "display": null,
      "flex": null,
      "flex_flow": null,
      "grid_area": null,
      "grid_auto_columns": null,
      "grid_auto_flow": null,
      "grid_auto_rows": null,
      "grid_column": null,
      "grid_gap": null,
      "grid_row": null,
      "grid_template_areas": null,
      "grid_template_columns": null,
      "grid_template_rows": null,
      "height": null,
      "justify_content": null,
      "justify_items": null,
      "left": null,
      "margin": null,
      "max_height": null,
      "max_width": null,
      "min_height": null,
      "min_width": null,
      "object_fit": null,
      "object_position": null,
      "order": null,
      "overflow": null,
      "overflow_x": null,
      "overflow_y": null,
      "padding": null,
      "right": null,
      "top": null,
      "visibility": null,
      "width": null
     }
    },
    "689e5b6708b24bb49268636e1194ed79": {
     "model_module": "@jupyter-widgets/base",
     "model_module_version": "1.2.0",
     "model_name": "LayoutModel",
     "state": {
      "_model_module": "@jupyter-widgets/base",
      "_model_module_version": "1.2.0",
      "_model_name": "LayoutModel",
      "_view_count": null,
      "_view_module": "@jupyter-widgets/base",
      "_view_module_version": "1.2.0",
      "_view_name": "LayoutView",
      "align_content": null,
      "align_items": null,
      "align_self": null,
      "border": null,
      "bottom": null,
      "display": null,
      "flex": null,
      "flex_flow": null,
      "grid_area": null,
      "grid_auto_columns": null,
      "grid_auto_flow": null,
      "grid_auto_rows": null,
      "grid_column": null,
      "grid_gap": null,
      "grid_row": null,
      "grid_template_areas": null,
      "grid_template_columns": null,
      "grid_template_rows": null,
      "height": null,
      "justify_content": null,
      "justify_items": null,
      "left": null,
      "margin": null,
      "max_height": null,
      "max_width": null,
      "min_height": null,
      "min_width": null,
      "object_fit": null,
      "object_position": null,
      "order": null,
      "overflow": null,
      "overflow_x": null,
      "overflow_y": null,
      "padding": null,
      "right": null,
      "top": null,
      "visibility": null,
      "width": null
     }
    },
    "90a5a6312e7b46758843d14e8e3d134f": {
     "model_module": "@jupyter-widgets/controls",
     "model_module_version": "1.5.0",
     "model_name": "FloatProgressModel",
     "state": {
      "_dom_classes": [],
      "_model_module": "@jupyter-widgets/controls",
      "_model_module_version": "1.5.0",
      "_model_name": "FloatProgressModel",
      "_view_count": null,
      "_view_module": "@jupyter-widgets/controls",
      "_view_module_version": "1.5.0",
      "_view_name": "ProgressView",
      "bar_style": "success",
      "description": "",
      "description_tooltip": null,
      "layout": "IPY_MODEL_eb70b3293c1e4dd69584c3588ded2889",
      "max": 170498071,
      "min": 0,
      "orientation": "horizontal",
      "style": "IPY_MODEL_3538f4e4eab240df96df2b006d29b41c",
      "value": 170498071
     }
    },
    "b21bfc9ee57a4296b8d4c97540c26f1f": {
     "model_module": "@jupyter-widgets/controls",
     "model_module_version": "1.5.0",
     "model_name": "HTMLModel",
     "state": {
      "_dom_classes": [],
      "_model_module": "@jupyter-widgets/controls",
      "_model_module_version": "1.5.0",
      "_model_name": "HTMLModel",
      "_view_count": null,
      "_view_module": "@jupyter-widgets/controls",
      "_view_module_version": "1.5.0",
      "_view_name": "HTMLView",
      "description": "",
      "description_tooltip": null,
      "layout": "IPY_MODEL_5d9f4f0a6c354bcaa82236c008208c07",
      "placeholder": "​",
      "style": "IPY_MODEL_53cb5fc6b0664d05b6ad5f42d82ee876",
      "value": " 170498071/170498071 [00:13&lt;00:00, 13898126.08it/s]"
     }
    },
    "bbae990dec274b0396601452b98064a1": {
     "model_module": "@jupyter-widgets/base",
     "model_module_version": "1.2.0",
     "model_name": "LayoutModel",
     "state": {
      "_model_module": "@jupyter-widgets/base",
      "_model_module_version": "1.2.0",
      "_model_name": "LayoutModel",
      "_view_count": null,
      "_view_module": "@jupyter-widgets/base",
      "_view_module_version": "1.2.0",
      "_view_name": "LayoutView",
      "align_content": null,
      "align_items": null,
      "align_self": null,
      "border": null,
      "bottom": null,
      "display": null,
      "flex": null,
      "flex_flow": null,
      "grid_area": null,
      "grid_auto_columns": null,
      "grid_auto_flow": null,
      "grid_auto_rows": null,
      "grid_column": null,
      "grid_gap": null,
      "grid_row": null,
      "grid_template_areas": null,
      "grid_template_columns": null,
      "grid_template_rows": null,
      "height": null,
      "justify_content": null,
      "justify_items": null,
      "left": null,
      "margin": null,
      "max_height": null,
      "max_width": null,
      "min_height": null,
      "min_width": null,
      "object_fit": null,
      "object_position": null,
      "order": null,
      "overflow": null,
      "overflow_x": null,
      "overflow_y": null,
      "padding": null,
      "right": null,
      "top": null,
      "visibility": null,
      "width": null
     }
    },
    "df73380fa2534d21b56f1ef0ccf221d6": {
     "model_module": "@jupyter-widgets/controls",
     "model_module_version": "1.5.0",
     "model_name": "HBoxModel",
     "state": {
      "_dom_classes": [],
      "_model_module": "@jupyter-widgets/controls",
      "_model_module_version": "1.5.0",
      "_model_name": "HBoxModel",
      "_view_count": null,
      "_view_module": "@jupyter-widgets/controls",
      "_view_module_version": "1.5.0",
      "_view_name": "HBoxView",
      "box_style": "",
      "children": [
       "IPY_MODEL_e10229890b30422d87805ef62b0673de",
       "IPY_MODEL_90a5a6312e7b46758843d14e8e3d134f",
       "IPY_MODEL_b21bfc9ee57a4296b8d4c97540c26f1f"
      ],
      "layout": "IPY_MODEL_bbae990dec274b0396601452b98064a1"
     }
    },
    "e10229890b30422d87805ef62b0673de": {
     "model_module": "@jupyter-widgets/controls",
     "model_module_version": "1.5.0",
     "model_name": "HTMLModel",
     "state": {
      "_dom_classes": [],
      "_model_module": "@jupyter-widgets/controls",
      "_model_module_version": "1.5.0",
      "_model_name": "HTMLModel",
      "_view_count": null,
      "_view_module": "@jupyter-widgets/controls",
      "_view_module_version": "1.5.0",
      "_view_name": "HTMLView",
      "description": "",
      "description_tooltip": null,
      "layout": "IPY_MODEL_689e5b6708b24bb49268636e1194ed79",
      "placeholder": "​",
      "style": "IPY_MODEL_54b475a675ce479e950165000046595f",
      "value": "100%"
     }
    },
    "eb70b3293c1e4dd69584c3588ded2889": {
     "model_module": "@jupyter-widgets/base",
     "model_module_version": "1.2.0",
     "model_name": "LayoutModel",
     "state": {
      "_model_module": "@jupyter-widgets/base",
      "_model_module_version": "1.2.0",
      "_model_name": "LayoutModel",
      "_view_count": null,
      "_view_module": "@jupyter-widgets/base",
      "_view_module_version": "1.2.0",
      "_view_name": "LayoutView",
      "align_content": null,
      "align_items": null,
      "align_self": null,
      "border": null,
      "bottom": null,
      "display": null,
      "flex": null,
      "flex_flow": null,
      "grid_area": null,
      "grid_auto_columns": null,
      "grid_auto_flow": null,
      "grid_auto_rows": null,
      "grid_column": null,
      "grid_gap": null,
      "grid_row": null,
      "grid_template_areas": null,
      "grid_template_columns": null,
      "grid_template_rows": null,
      "height": null,
      "justify_content": null,
      "justify_items": null,
      "left": null,
      "margin": null,
      "max_height": null,
      "max_width": null,
      "min_height": null,
      "min_width": null,
      "object_fit": null,
      "object_position": null,
      "order": null,
      "overflow": null,
      "overflow_x": null,
      "overflow_y": null,
      "padding": null,
      "right": null,
      "top": null,
      "visibility": null,
      "width": null
     }
    }
   }
  }
 },
 "nbformat": 4,
 "nbformat_minor": 5
}
